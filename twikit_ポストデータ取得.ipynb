{
  "nbformat": 4,
  "nbformat_minor": 0,
  "metadata": {
    "colab": {
      "provenance": [],
      "name": "twikit_ポストデータ取得.ipynb",
      "include_colab_link": true
    },
    "kernelspec": {
      "name": "python3",
      "display_name": "Python 3"
    },
    "language_info": {
      "name": "python"
    }
  },
  "cells": [
    {
      "cell_type": "markdown",
      "metadata": {
        "id": "view-in-github",
        "colab_type": "text"
      },
      "source": [
        "<a href=\"https://colab.research.google.com/github/railman-misaka/twikit2/blob/main/twikit_%E3%83%9D%E3%82%B9%E3%83%88%E3%83%87%E3%83%BC%E3%82%BF%E5%8F%96%E5%BE%97.ipynb\" target=\"_parent\"><img src=\"https://colab.research.google.com/assets/colab-badge.svg\" alt=\"Open In Colab\"/></a>"
      ]
    },
    {
      "cell_type": "markdown",
      "source": [
        "# twikitポスト検索\n",
        "# search_tweet、get_user_tweetsでポストのデータを取得します\n",
        "※詳細は[公式ドキュメントを見て下さい](https://twikit.readthedocs.io/en/latest/twikit.html#twikit.client.client.Client.search_tweet)<br>\n",
        "ポストから取得できる項目も[ここで確認して下さい](https://twikit.readthedocs.io/en/latest/twikit.html#twikit.tweet.Tweet)\n",
        "\n",
        "\n"
      ],
      "metadata": {
        "id": "hEv3nGWCh4V6"
      }
    },
    {
      "cell_type": "markdown",
      "source": [
        "## twikitインストール"
      ],
      "metadata": {
        "id": "MKpr9avanw0q"
      }
    },
    {
      "cell_type": "code",
      "execution_count": null,
      "metadata": {
        "id": "hHJHsZYHYyCy"
      },
      "outputs": [],
      "source": [
        "# 最初にインストールして下さい\n",
        "!pip install twikit -q"
      ]
    },
    {
      "cell_type": "markdown",
      "source": [
        "# 認証処理"
      ],
      "metadata": {
        "id": "Mx6B8PaCZVll"
      }
    },
    {
      "cell_type": "markdown",
      "source": [
        "## アカウント認証"
      ],
      "metadata": {
        "id": "Gdr_7Ep2qdWw"
      }
    },
    {
      "cell_type": "code",
      "source": [
        "import asyncio\n",
        "from twikit import Client\n",
        "\n",
        "# 日本語なら\"ja\"\n",
        "client = Client(\"ja\")\n",
        "\n",
        "USERNAME = \"**************\"\n",
        "PASSWORD = \"**************\"\n",
        "# EMAIL = \"**************\"\n",
        "\n",
        "# EMAILは不要と思われますがエラーの場合はセットしてみて下さい\n",
        "await client.login(\n",
        "    auth_info_1=USERNAME,\n",
        "    # auth_info_2=EMAIL,\n",
        "    password=PASSWORD\n",
        ")"
      ],
      "metadata": {
        "id": "qv3p-fE4Z9ju"
      },
      "execution_count": null,
      "outputs": []
    },
    {
      "cell_type": "markdown",
      "source": [
        "### Cookieを保存して下さい"
      ],
      "metadata": {
        "id": "GUgGleioqWkJ"
      }
    },
    {
      "cell_type": "code",
      "source": [
        "client.save_cookies(\"cookies.json\")"
      ],
      "metadata": {
        "id": "QRwzCu4dZb5q"
      },
      "execution_count": null,
      "outputs": []
    },
    {
      "cell_type": "markdown",
      "source": [
        "# ※2回目以降は保存したCookieで認証して下さい"
      ],
      "metadata": {
        "id": "ak7hXMTvnxDq"
      }
    },
    {
      "cell_type": "code",
      "source": [
        "import asyncio\n",
        "from twikit import Client\n",
        "\n",
        "# 日本語なら\"ja\"\n",
        "client = Client(\"ja\")\n",
        "\n",
        "client.load_cookies(\"cookies.json\")"
      ],
      "metadata": {
        "id": "GxLT2S0btwCX"
      },
      "execution_count": null,
      "outputs": []
    },
    {
      "cell_type": "markdown",
      "source": [
        "## Guestの場合（※アカウント不要ですがget_user_tweetsしかできません）"
      ],
      "metadata": {
        "id": "ebuZZTOkrhmu"
      }
    },
    {
      "cell_type": "code",
      "source": [
        "import asyncio\n",
        "from twikit.guest import GuestClient\n",
        "\n",
        "client = GuestClient()\n",
        "\n",
        "await client.activate()"
      ],
      "metadata": {
        "id": "-qOuesqFqTzU"
      },
      "execution_count": null,
      "outputs": []
    },
    {
      "cell_type": "markdown",
      "source": [
        "## **キーワードでポストを取得（search_tweet） ※Guest不可**"
      ],
      "metadata": {
        "id": "DD7SxDp7uFwm"
      }
    },
    {
      "cell_type": "markdown",
      "source": [
        "## ポストを話題順で取得します"
      ],
      "metadata": {
        "id": "s-b-IfS5wWSs"
      }
    },
    {
      "cell_type": "code",
      "source": [
        "keyword = \"パリオリンピック\"\n",
        "\n",
        "# キーワードからポスト取得（\"Top\"は話題順）\n",
        "tweets = await client.search_tweet(query=keyword, product=\"Top\")\n",
        "\n",
        "print(str(len(tweets)) + \"件\")\n",
        "\n",
        "for tweet in tweets:\n",
        "\n",
        "    # id、日付(UTC)、内容(改行削除)、インプレッション、いいね、リツイート数を出力\n",
        "    print(tweet.id, tweet.created_at_datetime, tweet.text.replace(\"\\n\", \" \"), tweet.view_count, tweet.favorite_count, tweet.retweet_count)"
      ],
      "metadata": {
        "id": "GXC0Vjz0uDGE"
      },
      "execution_count": null,
      "outputs": []
    },
    {
      "cell_type": "markdown",
      "source": [
        "## ポストを新しい順に取得します\n",
        "**※queryにsince:～ until:～でポストされた期間を指定できます**"
      ],
      "metadata": {
        "id": "Dfc_KACowcXv"
      }
    },
    {
      "cell_type": "code",
      "source": [
        "keyword = \"パリオリンピック since:2024-8-1 until:2024-8-3\"\n",
        "\n",
        "# キーワードからポスト取得（\"Latest\"は最新順）\n",
        "tweets = await client.search_tweet(query=keyword, product=\"Latest\")\n",
        "\n",
        "print(str(len(tweets)) + \"件\")\n",
        "\n",
        "for tweet in tweets:\n",
        "\n",
        "    # id、日付(UTC)、内容(改行削除)、インプレッション、いいね、リツイート数を出力\n",
        "    print(tweet.id, tweet.created_at_datetime, tweet.text.replace(\"\\n\", \" \"), tweet.view_count, tweet.favorite_count, tweet.retweet_count)"
      ],
      "metadata": {
        "id": "xw1lauyyvg7f"
      },
      "execution_count": null,
      "outputs": []
    },
    {
      "cell_type": "markdown",
      "source": [
        "## ユーザを指定して新しい順に取得します\n",
        "**※search_tweetでもfrom:(ユーザ名)でユーザのポストが検索できるようです**"
      ],
      "metadata": {
        "id": "IeE_L_8GYUF3"
      }
    },
    {
      "cell_type": "code",
      "source": [
        "keyword = \"from:sayaka_okada219 since:2024-8-4 until:2024-8-5\"\n",
        "\n",
        "# キーワードからポスト取得（\"Latest\"は最新順）\n",
        "tweets = await client.search_tweet(query=keyword, product=\"Latest\")\n",
        "\n",
        "print(str(len(tweets)) + \"件\")\n",
        "\n",
        "for tweet in tweets:\n",
        "\n",
        "    # id、日付(UTC)、内容(改行削除)、インプレッション、いいね、リツイート数を出力\n",
        "    print(tweet.id, tweet.created_at_datetime, tweet.text.replace(\"\\n\", \" \"), tweet.view_count, tweet.favorite_count, tweet.retweet_count)"
      ],
      "metadata": {
        "id": "lxg4E9pEYT-E"
      },
      "execution_count": null,
      "outputs": []
    },
    {
      "cell_type": "markdown",
      "source": [
        "# **ユーザを指定してポストを取得（get_user_tweets）**"
      ],
      "metadata": {
        "id": "T6QnycPfkgkK"
      }
    },
    {
      "cell_type": "markdown",
      "source": [
        "## ユーザを指定してポストを新しい順に取得します"
      ],
      "metadata": {
        "id": "ON3SWlSikVCM"
      }
    },
    {
      "cell_type": "code",
      "source": [
        "from datetime import datetime\n",
        "\n",
        "# ユーザ名（@～のやつ）をセット\n",
        "user_name = \"sayaka_okada219\"\n",
        "\n",
        "user = await client.get_user_by_screen_name(user_name)\n",
        "\n",
        "tweets = await client.get_user_tweets(user.id, \"Tweets\")\n",
        "\n",
        "print(str(len(tweets)) + \"件\")\n",
        "\n",
        "for tweet in tweets:\n",
        "\n",
        "    print(tweet.id, tweet.created_at, tweet.text.replace(\"\\n\", \" \"), tweet.view_count, tweet.favorite_count, tweet.retweet_count)"
      ],
      "metadata": {
        "id": "27eYNHhIZ-Oh"
      },
      "execution_count": null,
      "outputs": []
    },
    {
      "cell_type": "markdown",
      "source": [
        "# Dataframe変換"
      ],
      "metadata": {
        "id": "nmoXxRgqknA9"
      }
    },
    {
      "cell_type": "markdown",
      "source": [
        "## Guest以外の場合"
      ],
      "metadata": {
        "id": "4X71Pe9O0CcX"
      }
    },
    {
      "cell_type": "code",
      "source": [
        "import pandas as pd\n",
        "from datetime import datetime, timedelta\n",
        "\n",
        "df = pd.DataFrame(columns=[\"created_at\", \"text\", \"view_count\", \"favorite_count\", \"retweet_count\"])\n",
        "\n",
        "for tweet in tweets:\n",
        "\n",
        "        # インデックスをidにして日付(日本時間に変換)、内容、インプレッション、いいね、リツイート数を出力\n",
        "        df.loc[tweet.id] = [tweet.created_at_datetime.replace(tzinfo=None)+timedelta(hours=9), tweet.text, int(tweet.view_count or 0), int(tweet.favorite_count or 0), int(tweet.retweet_count or 0)]\n",
        "\n",
        "# インデックス名設定\n",
        "df.index.name = \"tweet_id\""
      ],
      "metadata": {
        "id": "6VUEWWD3klNk"
      },
      "execution_count": null,
      "outputs": []
    },
    {
      "cell_type": "markdown",
      "source": [
        "## Guestの場合  ※created_atを変換します"
      ],
      "metadata": {
        "id": "6D7NKIZx0JUM"
      }
    },
    {
      "cell_type": "code",
      "source": [
        "import pandas as pd\n",
        "from datetime import datetime, timedelta\n",
        "\n",
        "df = pd.DataFrame(columns=[\"created_at\", \"text\", \"view_count\", \"favorite_count\", \"retweet_count\"])\n",
        "\n",
        "for tweet in tweets:\n",
        "\n",
        "        # インデックスをidにして日付(日本時間に変換)、内容、インプレッション、いいね、リツイート数を出力\n",
        "        df.loc[tweet.id] = [datetime.strptime(tweet.created_at,'%a %b %d %H:%M:%S %z %Y').replace(tzinfo=None)+timedelta(hours=9), tweet.text, int(tweet.view_count or 0), int(tweet.favorite_count or 0), int(tweet.retweet_count or 0)]\n",
        "\n",
        "# インデックス名設定\n",
        "df.index.name = \"tweet_id\""
      ],
      "metadata": {
        "id": "-sZtoG5t3lHM"
      },
      "execution_count": null,
      "outputs": []
    },
    {
      "cell_type": "markdown",
      "source": [
        "## データの抽出"
      ],
      "metadata": {
        "id": "M8cM-lBKwJFw"
      }
    },
    {
      "cell_type": "code",
      "source": [
        "# 日付（日本時間で1日前）で抽出\n",
        "dt = datetime.now() + timedelta(hours=9) - timedelta(days=1)\n",
        "\n",
        "df_day = df.query('created_at > @dt')\n",
        "\n",
        "print(df_day)\n",
        "\n",
        "# インプレッション数で抽出\n",
        "num = 10000\n",
        "\n",
        "df_imp = df.query('view_count > @num')\n",
        "\n",
        "print(df_imp)"
      ],
      "metadata": {
        "id": "63EZqAh3uPuf"
      },
      "execution_count": null,
      "outputs": []
    },
    {
      "cell_type": "markdown",
      "source": [
        "## CSVにダウンロード"
      ],
      "metadata": {
        "id": "iNuhKU7Au2OY"
      }
    },
    {
      "cell_type": "code",
      "source": [
        "file_name = \"data.csv\"\n",
        "\n",
        "df.to_csv(file_name)"
      ],
      "metadata": {
        "id": "5ivT1Fsvuszy"
      },
      "execution_count": null,
      "outputs": []
    }
  ]
}
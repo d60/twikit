{
  "nbformat": 4,
  "nbformat_minor": 0,
  "metadata": {
    "colab": {
      "provenance": [],
      "include_colab_link": true
    },
    "kernelspec": {
      "name": "python3",
      "display_name": "Python 3"
    },
    "language_info": {
      "name": "python"
    }
  },
  "cells": [
    {
      "cell_type": "markdown",
      "metadata": {
        "id": "view-in-github",
        "colab_type": "text"
      },
      "source": [
        "<a href=\"https://colab.research.google.com/github/railman-misaka/twikit2/blob/main/twikit_.ipynb\" target=\"_parent\"><img src=\"https://colab.research.google.com/assets/colab-badge.svg\" alt=\"Open In Colab\"/></a>"
      ]
    },
    {
      "cell_type": "code",
      "execution_count": null,
      "metadata": {
        "id": "490bOxcixlbv"
      },
      "outputs": [],
      "source": [
        "!pip install twikit -q"
      ]
    },
    {
      "cell_type": "markdown",
      "source": [
        "## アカウント認証"
      ],
      "metadata": {
        "id": "Gdr_7Ep2qdWw"
      }
    },
    {
      "cell_type": "code",
      "source": [
        "import asyncio\n",
        "from twikit import Client\n",
        "\n",
        "# 日本語なら\"ja\"\n",
        "client = Client(\"ja\")\n",
        "\n",
        "USERNAME = \"**************\"\n",
        "PASSWORD = \"**************\"\n",
        "# EMAIL = \"**************\"\n",
        "\n",
        "# EMAILは不要と思われますがエラーの場合はセットしてみて下さい\n",
        "await client.login(\n",
        "    auth_info_1=USERNAME,\n",
        "    # auth_info_2=EMAIL,\n",
        "    password=PASSWORD\n",
        ")\n",
        "\n",
        "client.save_cookies(\"cookies.json\")"
      ],
      "metadata": {
        "id": "qv3p-fE4Z9ju"
      },
      "execution_count": null,
      "outputs": []
    },
    {
      "cell_type": "markdown",
      "source": [
        "## Cookieファイルで認証"
      ],
      "metadata": {
        "id": "ZTzYVhHUjRTM"
      }
    },
    {
      "cell_type": "code",
      "source": [
        "import asyncio\n",
        "from twikit import Client\n",
        "\n",
        "client = Client()\n",
        "\n",
        "client.load_cookies('cookies.json')"
      ],
      "metadata": {
        "id": "6oZgXuP7oxoN"
      },
      "execution_count": null,
      "outputs": []
    },
    {
      "cell_type": "markdown",
      "source": [
        "## 画像と動画ダウンロード\n",
        "**※ユーザ名（@～のやつ）と投稿期間を指定できるようにしましたが直接キーワードを編集して大丈夫です**"
      ],
      "metadata": {
        "id": "jhoM0Hqh7ruE"
      }
    },
    {
      "cell_type": "code",
      "execution_count": null,
      "metadata": {
        "id": "7Snjo5JwY4Dr",
        "colab": {
          "base_uri": "https://localhost:8080/"
        },
        "outputId": "7f4a9097-0d06-4092-cdd2-b58b6b4d4f85"
      },
      "outputs": [
        {
          "output_type": "stream",
          "name": "stdout",
          "text": [
            "10件ダウンロード\n"
          ]
        }
      ],
      "source": [
        "import re\n",
        "import requests\n",
        "import os\n",
        "from datetime import datetime,timezone\n",
        "\n",
        "pt = r\"(.*)\\?.*\"\n",
        "\n",
        "# 最大取得数（目安ですのでこれを超えることがあります）\n",
        "MAX_COUNT = 100   #@param {type:\"number\"}\n",
        "\n",
        "# ユーザ名と投稿期間（from～to）を指定\n",
        "user_name = \"sayaka_okada219\" #@param {type:\"string\"}\n",
        "date_from = \"2024-07-01\"  #@param {type:\"string\"}\n",
        "date_until = \"2024-08-01\" #@param {type:\"string\"}\n",
        "# @markdown **※MAX_COUNTは目安です。date_untilの日の投稿は含まれません。**\n",
        "\n",
        "# 直接キーワードを指定しても構いません\n",
        "keyword = f\"from:{user_name} since:{date_from} until:{date_until}\"\n",
        "\n",
        "# キーワードからポスト取得\n",
        "tweets = await client.search_tweet(query=keyword, product=\"Latest\")\n",
        "\n",
        "# フォルダ作成\n",
        "fol_name = user_name + \"_\" + date_from\n",
        "os.makedirs(fol_name, exist_ok=True)\n",
        "\n",
        "count = 0\n",
        "\n",
        "while count < MAX_COUNT:\n",
        "\n",
        "    for tweet in tweets:\n",
        "\n",
        "        if not tweet.media:\n",
        "            continue\n",
        "\n",
        "        for media in tweet.media:\n",
        "\n",
        "            media.get(\"video_info\")   # videoかどうか判定\n",
        "\n",
        "            if media.get(\"video_info\"):\n",
        "\n",
        "                media_url = media[\"video_info\"][\"variants\"][-1][\"url\"]\n",
        "                result = re.search(pt, media_url)\n",
        "\n",
        "                if result:\n",
        "                    media_url = result.group(1)   # ?tag=～を削除\n",
        "\n",
        "            else:\n",
        "                # videoがなければ画像を取得\n",
        "                media_url = media.get(\"media_url_https\")\n",
        "\n",
        "            response = requests.get(media_url)\n",
        "            file_name = media_url[media_url.rfind('/') + 1:]\n",
        "\n",
        "            with open(fol_name + \"/\" +file_name, 'wb') as f:\n",
        "                f.write(response.content)\n",
        "\n",
        "            count += 1\n",
        "\n",
        "    print(str(count) + \"件ダウンロード\")\n",
        "\n",
        "    tweets = await tweets.next()\n",
        "\n",
        "    if not tweets:\n",
        "        break"
      ]
    },
    {
      "cell_type": "markdown",
      "source": [
        "# 対象フォルダのZIP化"
      ],
      "metadata": {
        "id": "F-IyVjApf7cb"
      }
    },
    {
      "cell_type": "code",
      "source": [
        "!zip -r $fol_name $fol_name"
      ],
      "metadata": {
        "id": "-Qk1akKnB5BA"
      },
      "execution_count": null,
      "outputs": []
    }
  ]
}
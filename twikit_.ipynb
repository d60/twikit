{
  "nbformat": 4,
  "nbformat_minor": 0,
  "metadata": {
    "colab": {
      "provenance": [],
      "include_colab_link": true
    },
    "kernelspec": {
      "name": "python3",
      "display_name": "Python 3"
    },
    "language_info": {
      "name": "python"
    }
  },
  "cells": [
    {
      "cell_type": "markdown",
      "metadata": {
        "id": "view-in-github",
        "colab_type": "text"
      },
      "source": [
        "<a href=\"https://colab.research.google.com/github/railman-misaka/twikit2/blob/main/twikit_.ipynb\" target=\"_parent\"><img src=\"https://colab.research.google.com/assets/colab-badge.svg\" alt=\"Open In Colab\"/></a>"
      ]
    },
    {
      "cell_type": "code",
      "execution_count": null,
      "metadata": {
        "id": "hHJHsZYHYyCy"
      },
      "outputs": [],
      "source": [
        "# 最初にインストールして下さい\n",
        "!pip install twikit -q"
      ]
    },
    {
      "cell_type": "markdown",
      "source": [
        "## Cookieファイルで認証\n",
        "**※他のノートから Cookieファイルを作成して下さい**"
      ],
      "metadata": {
        "id": "ZTzYVhHUjRTM"
      }
    },
    {
      "cell_type": "code",
      "source": [
        "import asyncio\n",
        "from twikit import Client\n",
        "\n",
        "client = Client(\"ja\")\n",
        "\n",
        "client.load_cookies(\"cookies.json\")"
      ],
      "metadata": {
        "id": "n95mT9NNZdv-"
      },
      "execution_count": null,
      "outputs": []
    },
    {
      "cell_type": "markdown",
      "source": [
        "# **ポスト**\n",
        "**※スパム判定されエラーとなる場合があります**"
      ],
      "metadata": {
        "id": "x_yXpcKbY_aO"
      }
    },
    {
      "cell_type": "code",
      "source": [
        "text = \"ポストテスト\"\n",
        "\n",
        "await client.create_tweet(text)"
      ],
      "metadata": {
        "id": "J6_YHQuiZDgE"
      },
      "execution_count": null,
      "outputs": []
    },
    {
      "cell_type": "markdown",
      "source": [
        "## 画像付きポスト"
      ],
      "metadata": {
        "id": "TiFdz2gvaJ0B"
      }
    },
    {
      "cell_type": "code",
      "source": [
        "image_path = \"./test.jpg\"\n",
        "\n",
        "media_id   = await client.upload_media(image_path, wait_for_completion=True)\n",
        "\n",
        "await client.create_tweet(\"画像テスト\", media_ids=[media_id])"
      ],
      "metadata": {
        "id": "D3XcjDt_Zhrm"
      },
      "execution_count": null,
      "outputs": []
    },
    {
      "cell_type": "markdown",
      "source": [
        "## ポスト削除"
      ],
      "metadata": {
        "id": "kbob6X_4Kt0D"
      }
    },
    {
      "cell_type": "code",
      "source": [
        "tweet_id = \"1821045942583480453\"\n",
        "\n",
        "await client.delete_tweet(tweet_id)"
      ],
      "metadata": {
        "id": "3xX0OOPXa5aR"
      },
      "execution_count": null,
      "outputs": []
    },
    {
      "cell_type": "markdown",
      "source": [
        "# **ユーザ検索**"
      ],
      "metadata": {
        "id": "iQsvQSgIL2ew"
      }
    },
    {
      "cell_type": "code",
      "source": [
        "keyword = \"Vtuber\"\n",
        "\n",
        "users = await client.search_user(query=keyword)\n",
        "\n",
        "print(str(len(users)) + \"件\")\n",
        "\n",
        "for user in users:\n",
        "\n",
        "    print(user.name, user.screen_name, user.description, user.followers_count)\n",
        "\n",
        "    # await user.follow()   # フォローする場合 ※一気にフォローするので注意\n",
        "\n",
        "    # await user.unfollow()   # フォロー解除する場合"
      ],
      "metadata": {
        "id": "YQaIyt-WFE2A"
      },
      "execution_count": null,
      "outputs": []
    },
    {
      "cell_type": "markdown",
      "source": [
        "# **DM送付**"
      ],
      "metadata": {
        "id": "VqmzK1NNMYFt"
      }
    },
    {
      "cell_type": "code",
      "source": [
        "send_user_name = \"nekonii3info\"  # 送信するユーザー名\n",
        "\n",
        "send_user = await client.get_user_by_screen_name(send_user_name)\n",
        "\n",
        "await send_user.send_dm('DMテスト')"
      ],
      "metadata": {
        "id": "7E5Q2eluF10P"
      },
      "execution_count": null,
      "outputs": []
    },
    {
      "cell_type": "markdown",
      "source": [
        "## 画像付き"
      ],
      "metadata": {
        "id": "pYQ5fG1VtIBH"
      }
    },
    {
      "cell_type": "code",
      "source": [
        "image_path = \"./test.jpg\"\n",
        "\n",
        "media_id   = await client.upload_media(image_path, wait_for_completion=True)\n",
        "\n",
        "send_user_name = \"nekonii3info\"  # 送信するユーザー名\n",
        "\n",
        "send_user = await client.get_user_by_screen_name(send_user_name)\n",
        "\n",
        "await user.send_dm('DMテスト', media_id)"
      ],
      "metadata": {
        "id": "RWSzKoBns960"
      },
      "execution_count": null,
      "outputs": []
    },
    {
      "cell_type": "markdown",
      "source": [
        "# **フォロワー取得**"
      ],
      "metadata": {
        "id": "nn6-PoFGtopl"
      }
    },
    {
      "cell_type": "code",
      "source": [
        "user_name = \"kinnikun0917\"\n",
        "\n",
        "user = await client.get_user_by_screen_name(user_name)\n",
        "\n",
        "follow_list = await client.get_user_following(user.id)\n",
        "\n",
        "for follower in follow_list:\n",
        "\n",
        "    print(follower.name)"
      ],
      "metadata": {
        "id": "wtMemLujt2BN"
      },
      "execution_count": null,
      "outputs": []
    },
    {
      "cell_type": "markdown",
      "source": [
        "# **トレンド取得**\n",
        "※その他の地域のWOEIDは[こちらで](https://obel.hatenablog.jp/entry/20210719/1626640200)"
      ],
      "metadata": {
        "id": "X-q9rpMSLWca"
      }
    },
    {
      "cell_type": "code",
      "source": [
        "WOEID_TOKYO = 1118370\n",
        "\n",
        "trends = await client.get_place_trends(WOEID_TOKYO)\n",
        "\n",
        "trend_list = trends[\"trends\"]\n",
        "\n",
        "for trend in trend_list:\n",
        "    print(trend.name, trend.tweet_volume, trend.url)"
      ],
      "metadata": {
        "id": "6nVpYNpKGRVq"
      },
      "execution_count": null,
      "outputs": []
    },
    {
      "cell_type": "markdown",
      "source": [
        "# **一括いいね・リツイート・リプライ**\n",
        "**ユーザ指定で行いますがsearch_tweetでも可能です**<br>\n",
        "**※大量に行うとスパム扱いされるので気を付けて下さい**"
      ],
      "metadata": {
        "id": "fr3REs1CzCFX"
      }
    },
    {
      "cell_type": "code",
      "source": [
        "# ユーザ指定\n",
        "user_name = \"nekonii3info\"\n",
        "\n",
        "user = await client.get_user_by_screen_name(user_name)\n",
        "\n",
        "tweets = await client.get_user_tweets(user.id, \"Tweets\")\n",
        "\n",
        "for tweet in tweets:\n",
        "\n",
        "    await tweet.favorite()  # unfavorite()で解除\n",
        "\n",
        "    await tweet.retweet()   # delete_retweet()で解除\n",
        "\n",
        "    # tweet.replyがエラーとなったためこちらを利用しています\n",
        "    await client.create_tweet(\"リプライテスト\", reply_to=tweet.id)    # 削除は通常のポストと同じようにIDから行ってください\n",
        "\n",
        "    # 誤操作防止break\n",
        "    break"
      ],
      "metadata": {
        "id": "ggG9htlMzCuH"
      },
      "execution_count": null,
      "outputs": []
    }
  ]
}